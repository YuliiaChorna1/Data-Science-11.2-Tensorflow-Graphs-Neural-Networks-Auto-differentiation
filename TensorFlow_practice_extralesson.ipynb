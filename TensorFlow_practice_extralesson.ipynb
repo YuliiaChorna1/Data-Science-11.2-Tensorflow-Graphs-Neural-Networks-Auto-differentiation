{
  "cells": [
    {
      "cell_type": "markdown",
      "metadata": {
        "id": "view-in-github",
        "colab_type": "text"
      },
      "source": [
        "<a href=\"https://colab.research.google.com/github/YuliiaChorna1/Data-Science-11.2-Tensorflow-Graphs-Neural-Networks-Auto-differentiation/blob/main/TensorFlow_practice_extralesson.ipynb\" target=\"_parent\"><img src=\"https://colab.research.google.com/assets/colab-badge.svg\" alt=\"Open In Colab\"/></a>"
      ]
    },
    {
      "cell_type": "markdown",
      "metadata": {
        "id": "l91lTvJnwmdw"
      },
      "source": [
        "## TensorFlow"
      ]
    },
    {
      "cell_type": "markdown",
      "metadata": {
        "id": "qFmwRP-hwmdy"
      },
      "source": [
        "- TensorFlow is an open-source library developed by Google specifically for Deep Learning.\n",
        "- uses a dedicated data type `Tensor`, that can be used directly in the construction and training of neural networks. Tensors in TensorFlow are the fundamental data structure used for representing multi-dimensional arrays.\n",
        "- TensorFlow has robust support for GPU acceleration, making it efficient for training deep learning models on GPUs."
      ]
    },
    {
      "cell_type": "markdown",
      "metadata": {
        "id": "I5frG5Bgwmdy"
      },
      "source": [
        "### Installation\n",
        "\n",
        "https://www.tensorflow.org/install/pip#linux"
      ]
    },
    {
      "cell_type": "code",
      "execution_count": null,
      "metadata": {
        "id": "-7Zpq2I_wmdy"
      },
      "outputs": [],
      "source": [
        "# ! pip install tensorflow[and-cuda]\n",
        "# ERROR: Cannot install tensorflow[and-cuda]==2.16.1, tensorflow[and-cuda]==2.16.2, tensorflow[and-cuda]==2.17.0, tensorflow[and-cuda]==2.17.1 and tensorflow[and-cuda]==2.18.0 because these package versions have conflicting dependencies."
      ]
    },
    {
      "cell_type": "code",
      "execution_count": null,
      "metadata": {
        "id": "jplFDQdFwmdz"
      },
      "outputs": [],
      "source": [
        "import tensorflow as tf\n",
        "import numpy as np"
      ]
    },
    {
      "cell_type": "markdown",
      "metadata": {
        "id": "_jZSqJ9owmdz"
      },
      "source": [
        "### Check GPU support\n",
        "\n",
        "https://www.tensorflow.org/api_docs/python/tf/test/is_gpu_available"
      ]
    },
    {
      "cell_type": "code",
      "execution_count": null,
      "metadata": {
        "colab": {
          "base_uri": "https://localhost:8080/"
        },
        "id": "LZBkmLZXwmdz",
        "outputId": "491b7d68-046e-4385-d0ab-781e3d16df61"
      },
      "outputs": [
        {
          "output_type": "execute_result",
          "data": {
            "text/plain": [
              "True"
            ]
          },
          "metadata": {},
          "execution_count": 3
        }
      ],
      "source": [
        "tf.test.is_built_with_cuda()"
      ]
    },
    {
      "cell_type": "code",
      "execution_count": null,
      "metadata": {
        "colab": {
          "base_uri": "https://localhost:8080/"
        },
        "id": "MvOnznOOwmd0",
        "outputId": "31668910-623a-46f1-cf70-8e2d2764bc1e"
      },
      "outputs": [
        {
          "output_type": "execute_result",
          "data": {
            "text/plain": [
              "[PhysicalDevice(name='/physical_device:GPU:0', device_type='GPU')]"
            ]
          },
          "metadata": {},
          "execution_count": 4
        }
      ],
      "source": [
        "tf.config.list_physical_devices(\"GPU\")"
      ]
    },
    {
      "cell_type": "markdown",
      "source": [
        "## Tensor: Constant vs. Variable\n",
        "\n",
        "- `tf. constant / tf. Tensor` : Constants are immutable, meaning their values cannot be changed after creation. Once you create a constant tensor, its value remains fixed throughout the execution of the program. Use them for example, if you have hyperparameters or fixed values that need to remain constant throughout the training process.\n",
        "- `tf. Variable`: Variables are mutable, and their values can be changed during the execution of the program. This makes variables suitable for situations where you need to update the values iteratively, such as in training neural network weights. Use variables when you want to represent trainable parameters in your model, like weights and biases in a neural network."
      ],
      "metadata": {
        "id": "DgRME9JVw-D6"
      }
    },
    {
      "cell_type": "code",
      "source": [
        "x1 = tf.constant([[1.0, 2.0]])#, dtype=np.float16)\n",
        "x1"
      ],
      "metadata": {
        "colab": {
          "base_uri": "https://localhost:8080/"
        },
        "id": "zsWGM6aeypsC",
        "outputId": "5df8d84c-6153-4152-e6e0-63d9c78b73fa"
      },
      "execution_count": null,
      "outputs": [
        {
          "output_type": "execute_result",
          "data": {
            "text/plain": [
              "<tf.Tensor: shape=(1, 2), dtype=float32, numpy=array([[1., 2.]], dtype=float32)>"
            ]
          },
          "metadata": {},
          "execution_count": 5
        }
      ]
    },
    {
      "cell_type": "code",
      "source": [
        "x1.numpy()"
      ],
      "metadata": {
        "colab": {
          "base_uri": "https://localhost:8080/"
        },
        "id": "RJvFNBCG0HJO",
        "outputId": "9da4f27d-e2c2-4400-95af-e3752d0b76b8"
      },
      "execution_count": null,
      "outputs": [
        {
          "output_type": "execute_result",
          "data": {
            "text/plain": [
              "array([[1., 2.]], dtype=float32)"
            ]
          },
          "metadata": {},
          "execution_count": 6
        }
      ]
    },
    {
      "cell_type": "code",
      "source": [
        "x1[0]"
      ],
      "metadata": {
        "colab": {
          "base_uri": "https://localhost:8080/"
        },
        "id": "RwKD47ahy6Ud",
        "outputId": "5a62ef68-4bac-4d29-f3ab-3efce0663659"
      },
      "execution_count": null,
      "outputs": [
        {
          "output_type": "execute_result",
          "data": {
            "text/plain": [
              "<tf.Tensor: shape=(2,), dtype=float32, numpy=array([1., 2.], dtype=float32)>"
            ]
          },
          "metadata": {},
          "execution_count": 7
        }
      ]
    },
    {
      "cell_type": "code",
      "source": [
        "y1 = tf.convert_to_tensor([[2.0], [3.0]])\n",
        "y1"
      ],
      "metadata": {
        "colab": {
          "base_uri": "https://localhost:8080/"
        },
        "id": "BGE-Gmx8zCyX",
        "outputId": "e3495828-a12e-46e4-ca57-f1afdff25455"
      },
      "execution_count": null,
      "outputs": [
        {
          "output_type": "execute_result",
          "data": {
            "text/plain": [
              "<tf.Tensor: shape=(2, 1), dtype=float32, numpy=\n",
              "array([[2.],\n",
              "       [3.]], dtype=float32)>"
            ]
          },
          "metadata": {},
          "execution_count": 8
        }
      ]
    },
    {
      "cell_type": "code",
      "source": [
        "b1 = tf.constant(4.0)\n",
        "b1"
      ],
      "metadata": {
        "colab": {
          "base_uri": "https://localhost:8080/"
        },
        "id": "PQq60KKbzO_7",
        "outputId": "1c469554-0ba2-4bd6-e10e-056f66ed4d3f"
      },
      "execution_count": null,
      "outputs": [
        {
          "output_type": "execute_result",
          "data": {
            "text/plain": [
              "<tf.Tensor: shape=(), dtype=float32, numpy=4.0>"
            ]
          },
          "metadata": {},
          "execution_count": 9
        }
      ]
    },
    {
      "cell_type": "code",
      "source": [
        "b1 = tf.Variable(4.0)\n",
        "b1"
      ],
      "metadata": {
        "colab": {
          "base_uri": "https://localhost:8080/"
        },
        "id": "odBDxNFkzVNX",
        "outputId": "ed190917-06ef-4245-9d9a-f94317b4d13a"
      },
      "execution_count": null,
      "outputs": [
        {
          "output_type": "execute_result",
          "data": {
            "text/plain": [
              "<tf.Variable 'Variable:0' shape=() dtype=float32, numpy=4.0>"
            ]
          },
          "metadata": {},
          "execution_count": 10
        }
      ]
    },
    {
      "cell_type": "code",
      "source": [
        "import tensorflow as tf\n",
        "\n",
        "# Using tf.constant\n",
        "constant_tensor = tf.constant([1, 2, 3])\n",
        "\n",
        "# Using tf.Variable\n",
        "variable_tensor = tf.Variable([1, 2, 3])\n",
        "\n",
        "# You can update the value of a tf.Variable\n",
        "variable_tensor.assign([4, 5, 6])\n",
        "\n",
        "# Accessing the values\n",
        "print(constant_tensor.numpy()) # Output: [1 2 3]\n",
        "print(variable_tensor.numpy()) # Output: [4 5 6]"
      ],
      "metadata": {
        "colab": {
          "base_uri": "https://localhost:8080/"
        },
        "id": "DA8Sz2pvzatn",
        "outputId": "18a3df0c-b502-48f9-e35e-a974c1b56193"
      },
      "execution_count": null,
      "outputs": [
        {
          "output_type": "stream",
          "name": "stdout",
          "text": [
            "[1 2 3]\n",
            "[4 5 6]\n"
          ]
        }
      ]
    },
    {
      "cell_type": "markdown",
      "source": [
        "### **Eager vs. Graph execution / Інтерактивне (послідовне) викомання проти Графічного виконання**:\n",
        "\n",
        "https://www.tensorflow.org/guide/intro_to_graphs"
      ],
      "metadata": {
        "id": "a-OOi5t11Zao"
      }
    },
    {
      "cell_type": "code",
      "source": [
        "# https://ww.tensorflow.org/api_docs/python/tf/executing_eagerly\n",
        "# Default\n",
        "assert tf.multiply(6, 7).numpy() == 42\n",
        "tf.executing_eagerly()"
      ],
      "metadata": {
        "colab": {
          "base_uri": "https://localhost:8080/"
        },
        "id": "wACPznKf2VIJ",
        "outputId": "142cdd24-3d3c-498d-f305-8268a7ec07e8"
      },
      "execution_count": null,
      "outputs": [
        {
          "output_type": "execute_result",
          "data": {
            "text/plain": [
              "True"
            ]
          },
          "metadata": {},
          "execution_count": 12
        }
      ]
    },
    {
      "cell_type": "code",
      "source": [
        "# Simple Python function\n",
        "def f():\n",
        "    print(\"Eager execution in a simple Python function:\", tf.executing_eagerly())\n",
        "    print(tf.multiply(6, 7).numpy())\n",
        "\n",
        "f()"
      ],
      "metadata": {
        "colab": {
          "base_uri": "https://localhost:8080/"
        },
        "id": "IlWVbSeXR4Lc",
        "outputId": "f2658499-1d4f-4f43-a913-70ed9190bd91"
      },
      "execution_count": null,
      "outputs": [
        {
          "output_type": "stream",
          "name": "stdout",
          "text": [
            "Eager execution in a simple Python function: True\n",
            "42\n"
          ]
        }
      ]
    },
    {
      "cell_type": "code",
      "source": [
        "tf.config.run_functions_eagerly(False) # Default behaviour\n",
        "@tf.function # Compiles a function into a callable TensorFlow graph (https://www.tensorflow.org/api_docs/python/tf/function)\n",
        "def fn_graph():\n",
        "    with tf.init_scope(): # context manager, moves clause out of the graph\n",
        "        print(\"Eager execution outside of the graph:\", tf.executing_eagerly()) # outside the graph\n",
        "    print(\"Eager execution inside of the graph:\", tf.executing_eagerly()) # inside the graph\n",
        "    return tf.multiply(6, 7)#.numpy()\n",
        "\n",
        "fn_graph().numpy()"
      ],
      "metadata": {
        "colab": {
          "base_uri": "https://localhost:8080/"
        },
        "id": "Lx8pcYTBSL0h",
        "outputId": "3a7aa805-89e0-4a00-b8ec-4504bba3060a"
      },
      "execution_count": null,
      "outputs": [
        {
          "output_type": "stream",
          "name": "stdout",
          "text": [
            "Eager execution outside of the graph: True\n",
            "Eager execution inside of the graph: False\n"
          ]
        },
        {
          "output_type": "execute_result",
          "data": {
            "text/plain": [
              "42"
            ]
          },
          "metadata": {},
          "execution_count": 14
        }
      ]
    },
    {
      "cell_type": "code",
      "source": [
        "fn_graph()"
      ],
      "metadata": {
        "colab": {
          "base_uri": "https://localhost:8080/"
        },
        "id": "0nIrMzfMV2uh",
        "outputId": "05583723-d767-4058-a826-dde25831619d"
      },
      "execution_count": null,
      "outputs": [
        {
          "output_type": "execute_result",
          "data": {
            "text/plain": [
              "<tf.Tensor: shape=(), dtype=int32, numpy=42>"
            ]
          },
          "metadata": {},
          "execution_count": 15
        }
      ]
    },
    {
      "cell_type": "code",
      "source": [
        "tf.config.run_functions_eagerly(True)\n",
        "@tf.function # Compiles a function into a callable TensorFlow graph (https://www.tensorflow.org/api_docs/python/tf/function)\n",
        "def fn_eager():\n",
        "    with tf.init_scope():\n",
        "        print(\"Eager execution outside of the graph:\", tf.executing_eagerly()) # outside the graph\n",
        "    print(\"Eager execution inside of the graph:\", tf.executing_eagerly()) # inside the graph\n",
        "    return tf.multiply(6, 7).numpy()\n",
        "fn_eager()"
      ],
      "metadata": {
        "colab": {
          "base_uri": "https://localhost:8080/"
        },
        "id": "uCsJpJRwV50V",
        "outputId": "27a43cac-9c25-4e18-a866-1363ad698789"
      },
      "execution_count": null,
      "outputs": [
        {
          "output_type": "stream",
          "name": "stdout",
          "text": [
            "Eager execution outside of the graph: True\n",
            "Eager execution inside of the graph: True\n"
          ]
        },
        {
          "output_type": "execute_result",
          "data": {
            "text/plain": [
              "42"
            ]
          },
          "metadata": {},
          "execution_count": 16
        }
      ]
    },
    {
      "cell_type": "code",
      "source": [
        "# fn_eager().graph() # недоступний в даному випадку бо fn_eager побудована як послідовна функція"
      ],
      "metadata": {
        "id": "4nf7UklQWv6k"
      },
      "execution_count": null,
      "outputs": []
    },
    {
      "cell_type": "code",
      "source": [
        "# Switch to graph execution by default\n",
        "tf.compat.v1.disable_eager_execution()"
      ],
      "metadata": {
        "id": "64bYKaZvZBMq"
      },
      "execution_count": null,
      "outputs": []
    },
    {
      "cell_type": "code",
      "source": [
        "# fn_eager() # -> no eager execution anymore because of code above"
      ],
      "metadata": {
        "id": "qXycqu4DZOIB"
      },
      "execution_count": 1,
      "outputs": []
    },
    {
      "cell_type": "code",
      "source": [
        "def fn():\n",
        "    print(\"Eager execution in a simple Python function:\", tf.executing_eagerly())\n",
        "\n",
        "fn()\n",
        "\n",
        "# Eager execution cannot be enabled after Tensorflow APIs have been used to\n",
        "# create or execute graphs. It is typically recommended to invoke this function\n",
        "# at program startup and not in a library (as most (torarzes should de usable\n",
        "# both with and without eager execution)"
      ],
      "metadata": {
        "colab": {
          "base_uri": "https://localhost:8080/"
        },
        "id": "fHcQCwPcZXgB",
        "outputId": "530dff73-0f6c-4a58-d27f-f705771c0a3a"
      },
      "execution_count": null,
      "outputs": [
        {
          "output_type": "stream",
          "name": "stdout",
          "text": [
            "Eager execution in a simple Python function: False\n"
          ]
        }
      ]
    },
    {
      "cell_type": "markdown",
      "source": [
        "*When to choose what?*\n",
        "\n",
        "**Eager** execution:\n",
        "- if you are experimenting and debugging is important\n",
        "- if you have a few computationally expensive operations\n",
        "\n",
        "**Graph** execution:\n",
        "- If you need to optimize your code when you have many operations which are in itself not necessarily heavy\n",
        "\n",
        "*Good practice:*\n",
        "- use `@tf.function` decorator to define your functions and switch on the option `tf.config.run_functions_eagerly(True)` when debugging to be able to turn it to `False` otherwise if needed."
      ],
      "metadata": {
        "id": "SEC_tRwFbk3G"
      }
    }
  ],
  "metadata": {
    "kernelspec": {
      "display_name": "Python 3",
      "name": "python3"
    },
    "language_info": {
      "codemirror_mode": {
        "name": "ipython",
        "version": 3
      },
      "file_extension": ".py",
      "mimetype": "text/x-python",
      "name": "python",
      "nbconvert_exporter": "python",
      "pygments_lexer": "ipython3",
      "version": "3.12.4"
    },
    "colab": {
      "provenance": [],
      "include_colab_link": true
    }
  },
  "nbformat": 4,
  "nbformat_minor": 0
}