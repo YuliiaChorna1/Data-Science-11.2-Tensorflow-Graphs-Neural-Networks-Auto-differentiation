{
  "nbformat": 4,
  "nbformat_minor": 0,
  "metadata": {
    "colab": {
      "provenance": [],
      "authorship_tag": "ABX9TyO6Y7B/MRlbTvT85HgVNQuI",
      "include_colab_link": true
    },
    "kernelspec": {
      "name": "python3",
      "display_name": "Python 3"
    },
    "language_info": {
      "name": "python"
    }
  },
  "cells": [
    {
      "cell_type": "markdown",
      "metadata": {
        "id": "view-in-github",
        "colab_type": "text"
      },
      "source": [
        "<a href=\"https://colab.research.google.com/github/YuliiaChorna1/Data-Science-11.2-Tensorflow-Graphs-Neural-Networks-Auto-differentiation/blob/main/automatic_differentiation_extralesson.ipynb\" target=\"_parent\"><img src=\"https://colab.research.google.com/assets/colab-badge.svg\" alt=\"Open In Colab\"/></a>"
      ]
    },
    {
      "cell_type": "markdown",
      "source": [
        "# Automatic Differentiation / Автоматичне визначення похідної"
      ],
      "metadata": {
        "id": "f2M7TnvLZIX4"
      }
    },
    {
      "cell_type": "code",
      "execution_count": 1,
      "metadata": {
        "id": "BNJO2vwMYzJE",
        "colab": {
          "base_uri": "https://localhost:8080/"
        },
        "outputId": "181cf9d2-7011-428d-e43b-de2bf145d0f3"
      },
      "outputs": [
        {
          "output_type": "stream",
          "name": "stdout",
          "text": [
            "tf.Tensor(0.104993574, shape=(), dtype=float32)\n"
          ]
        }
      ],
      "source": [
        "import tensorflow as tf\n",
        "import numpy as np\n",
        "import matplotlib.pyplot as plt\n",
        "\n",
        "def sigmoid(x):\n",
        "    return 1 / (1 + tf.exp(-x))\n",
        "\n",
        "x = tf.Variable(2.0)\n",
        "\n",
        "with tf.GradientTape() as tape:\n",
        "    y = sigmoid(x)\n",
        "    dydx = tape.gradient(y, x)\n",
        "    print(dydx)"
      ]
    },
    {
      "cell_type": "code",
      "source": [
        "# Define the input range\n",
        "x_values = np.linspace(-5, 5, 1000)\n",
        "y_values = sigmoid(x_values)\n",
        "\n",
        "# Tangent line equation: y = f`(x) * (x - x0) + f(x0)\n",
        "tangent_line = dydx * (x_values - x) + y\n",
        "\n",
        "plt.plot(x_values, y_values, label=\"Original Function\")\n",
        "plt.plot(x_values, tangent_line, label=\"Tangent Line at x = {}\".format(x), linestyle=\"--\")\n",
        "plt.scatter(x, y, color=\"red\") # Mark the point on the function\n",
        "plt.show()"
      ],
      "metadata": {
        "id": "mP2OhZq1Zzed",
        "colab": {
          "base_uri": "https://localhost:8080/",
          "height": 430
        },
        "outputId": "132783c1-765d-490d-908a-a708c57af4cd"
      },
      "execution_count": 2,
      "outputs": [
        {
          "output_type": "display_data",
          "data": {
            "text/plain": [
              "<Figure size 640x480 with 1 Axes>"
            ],
            "image/png": "[encoded data removed]"
          },
          "metadata": {}
        }
      ]
    },
    {
      "cell_type": "markdown",
      "source": [
        "# Simple Neural Network"
      ],
      "metadata": {
        "id": "KlwfLHbg-C3C"
      }
    },
    {
      "cell_type": "code",
      "source": [
        "import tensorflow as tf\n",
        "\n",
        "\n",
        "# y = w1*x + b\n",
        "# y = 5*x + 5\n",
        "class SimpleModule(tf.Module):\n",
        "    def __init__(self, name=None):\n",
        "        super().__init__(name=name)\n",
        "        self.w = tf.Variable(5.0)\n",
        "        self.b = tf.Variable(5.0)\n",
        "\n",
        "    def __call__(self, x):\n",
        "        return self.w * x + self.b\n",
        "\n",
        "simple_module = SimpleModule(name=\"simple\")\n",
        "\n",
        "simple_module(tf.constant(5.0))#.numpy() # for clear result"
      ],
      "metadata": {
        "colab": {
          "base_uri": "https://localhost:8080/"
        },
        "id": "BSHj0tsU-CT4",
        "outputId": "fc64030b-7c5e-446c-c4a8-4f1140aa2578"
      },
      "execution_count": 3,
      "outputs": [
        {
          "output_type": "execute_result",
          "data": {
            "text/plain": [
              "<tf.Tensor: shape=(), dtype=float32, numpy=30.0>"
            ]
          },
          "metadata": {},
          "execution_count": 3
        }
      ]
    },
    {
      "cell_type": "code",
      "source": [
        "class DenseLayer(tf.Module):\n",
        "    def __init__(self, in_features, out_features, name=None):\n",
        "        super().__init__(name=name)\n",
        "        self.w = tf.Variable(\n",
        "            tf.random.normal([in_features, out_features]), name=\"w\"\n",
        "        )\n",
        "        print(self.w)\n",
        "        self.b = tf.Variable(tf.zeros([out_features]), name=\"b\") # Trainable variables\n",
        "        print(self.b)\n",
        "\n",
        "    def __call__(self, x):\n",
        "        y = tf.matmul(x, self.w) + self.b\n",
        "        return tf.nn.relu(y)\n",
        "\n",
        "\n",
        "# Multi-layer perceptron\n",
        "class NN(tf.Module):\n",
        "    def __init__(self, name=None):\n",
        "        super().__init__(name=name)\n",
        "\n",
        "        self.layer_1 = DenseLayer(in_features=3, out_features=3)\n",
        "        self.layer_2 = DenseLayer(in_features=3, out_features=1)\n",
        "\n",
        "    def __call__(self, x):\n",
        "        print(\"Input layer: \", x)\n",
        "        print(\"Layer 1: \", \"tf.nn.relu(\", self.layer_1.w.numpy(), \"*\", x.numpy(), \" + \", self.layer_1.b.numpy()), \")\"\n",
        "        x = self.layer_1(x)\n",
        "        print(\"Layer 1 outputs: \", x)\n",
        "        print(\"Layer 2: \", \"tf.nn.relu(\", self.layer_2.w.numpy(), \"*\", x.numpy(), \" + \", self.layer_2.b.numpy()), \")\"\n",
        "        x = self.layer_2(x)\n",
        "        print(\"Layer 2 outputs: \", x)\n",
        "        return x\n",
        "\n",
        "nn = NN(name=\"neural_network\")"
      ],
      "metadata": {
        "colab": {
          "base_uri": "https://localhost:8080/"
        },
        "id": "HIiDMd3ICFLF",
        "outputId": "8433ef65-9964-4dfd-c0d1-53acfd99aeaf"
      },
      "execution_count": 8,
      "outputs": [
        {
          "output_type": "stream",
          "name": "stdout",
          "text": [
            "<tf.Variable 'w:0' shape=(3, 3) dtype=float32, numpy=\n",
            "array([[ 1.7136772 , -0.03733459, -0.70087177],\n",
            "       [-1.8249326 ,  0.915279  ,  0.18749723],\n",
            "       [ 0.3726737 ,  1.7635863 ,  0.36706746]], dtype=float32)>\n",
            "<tf.Variable 'b:0' shape=(3,) dtype=float32, numpy=array([0., 0., 0.], dtype=float32)>\n",
            "<tf.Variable 'w:0' shape=(3, 1) dtype=float32, numpy=\n",
            "array([[1.6103338 ],\n",
            "       [0.5218676 ],\n",
            "       [0.22624382]], dtype=float32)>\n",
            "<tf.Variable 'b:0' shape=(1,) dtype=float32, numpy=array([0.], dtype=float32)>\n"
          ]
        }
      ]
    },
    {
      "cell_type": "code",
      "source": [
        "print(\"Results:\", nn(tf.constant([[2.0, 2.0, 2.0]])))"
      ],
      "metadata": {
        "colab": {
          "base_uri": "https://localhost:8080/"
        },
        "id": "ebkh1pKwR3d6",
        "outputId": "7fb6ce79-0f45-4002-c69e-224cdd7bf7cc"
      },
      "execution_count": 9,
      "outputs": [
        {
          "output_type": "stream",
          "name": "stdout",
          "text": [
            "Input layer:  tf.Tensor([[2. 2. 2.]], shape=(1, 3), dtype=float32)\n",
            "Layer 1:  tf.nn.relu( [[ 1.7136772  -0.03733459 -0.70087177]\n",
            " [-1.8249326   0.915279    0.18749723]\n",
            " [ 0.3726737   1.7635863   0.36706746]] * [[2. 2. 2.]]  +  [0. 0. 0.]\n",
            "Layer 1 outputs:  tf.Tensor([[0.52283657 5.283061   0.        ]], shape=(1, 3), dtype=float32)\n",
            "Layer 2:  tf.nn.relu( [[1.6103338 ]\n",
            " [0.5218676 ]\n",
            " [0.22624382]] * [[0.52283657 5.283061   0.        ]]  +  [0.]\n",
            "Layer 2 outputs:  tf.Tensor([[3.5989995]], shape=(1, 1), dtype=float32)\n",
            "Results: tf.Tensor([[3.5989995]], shape=(1, 1), dtype=float32)\n"
          ]
        }
      ]
    },
    {
      "cell_type": "markdown",
      "source": [
        "# Representing activation functions in TensorFlow"
      ],
      "metadata": {
        "id": "SoxnVZUBXMLe"
      }
    },
    {
      "cell_type": "code",
      "source": [
        "\n",
        "def identity(x):\n",
        "    return x\n",
        "\n",
        "def step(x):\n",
        "    return tf.where(x > 0, 1, 0)\n",
        "\n",
        "def sigmoid(x):\n",
        "    return tf.math.sigmoid(x)\n",
        "\n",
        "def tanh(x):\n",
        "    return tf.math.tanh(x)\n",
        "\n",
        "def arctan(x):\n",
        "    return tf.math.atan(x)\n",
        "\n",
        "def relu(x):\n",
        "    return tf.nn.relu(x)\n",
        "\n",
        "def prelu(x, alpha=0.1):\n",
        "    return tf.maximum(0.0,x) + alpha * tf.minimum(0.0, x)\n",
        "\n",
        "def softsign(x):\n",
        "    return x / (1 + tf.abs(x))"
      ],
      "metadata": {
        "id": "e7nIi1t6TGeQ"
      },
      "execution_count": 10,
      "outputs": []
    }
  ]
}