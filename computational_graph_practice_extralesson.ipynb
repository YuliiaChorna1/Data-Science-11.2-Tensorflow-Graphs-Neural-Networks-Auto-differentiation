{
  "nbformat": 4,
  "nbformat_minor": 0,
  "metadata": {
    "colab": {
      "provenance": [],
      "authorship_tag": "ABX9TyOsL5BPanmenmYYJbSILElc",
      "include_colab_link": true
    },
    "kernelspec": {
      "name": "python3",
      "display_name": "Python 3"
    },
    "language_info": {
      "name": "python"
    }
  },
  "cells": [
    {
      "cell_type": "markdown",
      "metadata": {
        "id": "view-in-github",
        "colab_type": "text"
      },
      "source": [
        "<a href=\"https://colab.research.google.com/github/YuliiaChorna1/Data-Science-11.2-Tensorflow-Graphs-Neural-Networks-Auto-differentiation/blob/main/computational_graph_practice_extralesson.ipynb\" target=\"_parent\"><img src=\"https://colab.research.google.com/assets/colab-badge.svg\" alt=\"Open In Colab\"/></a>"
      ]
    },
    {
      "cell_type": "markdown",
      "source": [
        "# Computational graph / обчислювальний граф\n",
        "\n",
        "https://www.tensorflow.org/guide/intro_to_graphs"
      ],
      "metadata": {
        "id": "vtPFGugdutBO"
      }
    },
    {
      "cell_type": "code",
      "execution_count": 2,
      "metadata": {
        "id": "sSq-ILgBunI9"
      },
      "outputs": [],
      "source": [
        "import tensorflow as tf\n",
        "\n",
        "\n",
        "def formula(x: tf.Tensor, y: tf.Tensor, b: tf.Tensor):\n",
        "    x = tf.matmul(x, y)\n",
        "    x = x + b\n",
        "    return x\n",
        "\n",
        "# Функція tf.function приймає у якості аргумента звичайну функцію\n",
        "# і генерує обчислювальний граф:\n",
        "function_that_uses_graph = tf.function(formula)\n",
        "\n",
        "# Ми будемо виконувати матричні операції,\n",
        "# тому перш ніж передавати аргументи на цю функцію потрібно перетворити їх на тензори:\n",
        "x1 = tf.constant([[1.0, 2.0]])\n",
        "y1 = tf.constant([[2.0], [3.0]])\n",
        "b1 = tf.constant(4.0)\n",
        "\n",
        "orig_value = formula(x1, y1, b1).numpy()\n",
        "\n",
        "# Після виконання обчислень функція function_that_uses_a_graph поверне тензор,\n",
        "# який буде перетворено на багатовимірний масив numpy:\n",
        "tf_function_value = function_that_uses_graph(x1, y1, b1).numpy()\n",
        "\n",
        "assert(orig_value == tf_function_value)"
      ]
    },
    {
      "cell_type": "code",
      "source": [
        "def my_func(x, y):\n",
        "    # A simple hand-rolled layer\n",
        "    return tf.nn.relu(tf.matmul(x, y))\n",
        "\n",
        "my_func_tf = tf.function(my_func)\n",
        "\n",
        "my_func_tf(x1, y1).numpy()"
      ],
      "metadata": {
        "colab": {
          "base_uri": "https://localhost:8080/"
        },
        "id": "SgEChyUiwMMM",
        "outputId": "3c6e0c42-44e6-430e-d68c-fee0b5f941dc"
      },
      "execution_count": 3,
      "outputs": [
        {
          "output_type": "execute_result",
          "data": {
            "text/plain": [
              "array([[8.]], dtype=float32)"
            ]
          },
          "metadata": {},
          "execution_count": 3
        }
      ]
    },
    {
      "cell_type": "code",
      "source": [
        "# This is the graph-generating output of Autograph\n",
        "print(tf.autograph.to_code(my_func_tf.python_function))"
      ],
      "metadata": {
        "colab": {
          "base_uri": "https://localhost:8080/"
        },
        "id": "eFQeCtyUwZyG",
        "outputId": "b575f968-cd7d-4114-ace2-c4c7311995f7"
      },
      "execution_count": 8,
      "outputs": [
        {
          "output_type": "stream",
          "name": "stdout",
          "text": [
            "def tf__my_func(x, y):\n",
            "    with ag__.FunctionScope('my_func', 'fscope', ag__.ConversionOptions(recursive=True, user_requested=True, optional_features=(), internal_convert_user_code=True)) as fscope:\n",
            "        do_return = False\n",
            "        retval_ = ag__.UndefinedReturnValue()\n",
            "        try:\n",
            "            do_return = True\n",
            "            retval_ = ag__.converted_call(ag__.ld(tf).nn.relu, (ag__.converted_call(ag__.ld(tf).matmul, (ag__.ld(x), ag__.ld(y)), None, fscope),), None, fscope)\n",
            "        except:\n",
            "            do_return = False\n",
            "            raise\n",
            "        return fscope.ret(retval_, do_return)\n",
            "\n"
          ]
        }
      ]
    },
    {
      "cell_type": "code",
      "source": [
        "# This is the graph itself\n",
        "print(my_func_tf.get_concrete_function(x1, y1).graph.as_graph_def())"
      ],
      "metadata": {
        "colab": {
          "base_uri": "https://localhost:8080/"
        },
        "id": "2UWPDTZB2qiT",
        "outputId": "dfe7659c-0216-4c90-fb7b-216ce385db5a"
      },
      "execution_count": 6,
      "outputs": [
        {
          "output_type": "stream",
          "name": "stdout",
          "text": [
            "node {\n",
            "  name: \"x\"\n",
            "  op: \"Placeholder\"\n",
            "  attr {\n",
            "    key: \"shape\"\n",
            "    value {\n",
            "      shape {\n",
            "        dim {\n",
            "          size: 1\n",
            "        }\n",
            "        dim {\n",
            "          size: 2\n",
            "        }\n",
            "      }\n",
            "    }\n",
            "  }\n",
            "  attr {\n",
            "    key: \"dtype\"\n",
            "    value {\n",
            "      type: DT_FLOAT\n",
            "    }\n",
            "  }\n",
            "  attr {\n",
            "    key: \"_user_specified_name\"\n",
            "    value {\n",
            "      s: \"x\"\n",
            "    }\n",
            "  }\n",
            "}\n",
            "node {\n",
            "  name: \"y\"\n",
            "  op: \"Placeholder\"\n",
            "  attr {\n",
            "    key: \"shape\"\n",
            "    value {\n",
            "      shape {\n",
            "        dim {\n",
            "          size: 2\n",
            "        }\n",
            "        dim {\n",
            "          size: 1\n",
            "        }\n",
            "      }\n",
            "    }\n",
            "  }\n",
            "  attr {\n",
            "    key: \"dtype\"\n",
            "    value {\n",
            "      type: DT_FLOAT\n",
            "    }\n",
            "  }\n",
            "  attr {\n",
            "    key: \"_user_specified_name\"\n",
            "    value {\n",
            "      s: \"y\"\n",
            "    }\n",
            "  }\n",
            "}\n",
            "node {\n",
            "  name: \"MatMul\"\n",
            "  op: \"MatMul\"\n",
            "  input: \"x\"\n",
            "  input: \"y\"\n",
            "  attr {\n",
            "    key: \"transpose_b\"\n",
            "    value {\n",
            "      b: false\n",
            "    }\n",
            "  }\n",
            "  attr {\n",
            "    key: \"transpose_a\"\n",
            "    value {\n",
            "      b: false\n",
            "    }\n",
            "  }\n",
            "  attr {\n",
            "    key: \"grad_b\"\n",
            "    value {\n",
            "      b: false\n",
            "    }\n",
            "  }\n",
            "  attr {\n",
            "    key: \"grad_a\"\n",
            "    value {\n",
            "      b: false\n",
            "    }\n",
            "  }\n",
            "  attr {\n",
            "    key: \"T\"\n",
            "    value {\n",
            "      type: DT_FLOAT\n",
            "    }\n",
            "  }\n",
            "}\n",
            "node {\n",
            "  name: \"Relu\"\n",
            "  op: \"Relu\"\n",
            "  input: \"MatMul\"\n",
            "  attr {\n",
            "    key: \"T\"\n",
            "    value {\n",
            "      type: DT_FLOAT\n",
            "    }\n",
            "  }\n",
            "}\n",
            "node {\n",
            "  name: \"Identity\"\n",
            "  op: \"Identity\"\n",
            "  input: \"Relu\"\n",
            "  attr {\n",
            "    key: \"T\"\n",
            "    value {\n",
            "      type: DT_FLOAT\n",
            "    }\n",
            "  }\n",
            "}\n",
            "versions {\n",
            "  producer: 1882\n",
            "}\n",
            "\n"
          ]
        }
      ]
    },
    {
      "cell_type": "markdown",
      "source": [
        "https://www.tensorflow.org/tensorboard/graphs#graphs_of_tffunctions"
      ],
      "metadata": {
        "id": "LtTJJqKb20xf"
      }
    },
    {
      "cell_type": "code",
      "source": [
        "from datetime import datetime\n",
        "import tensorflow as tf\n",
        "\n",
        "# The function to be traced.\n",
        "@tf.function\n",
        "def my_func(x, y):\n",
        "    # A simple hand-rolled layer.\n",
        "    return tf.nn.relu(tf.matmul(x, y))\n",
        "\n",
        "# Set up logging.\n",
        "stamp = datetime.now().strftime(\"%Y%m%d-%H%M%S\")\n",
        "logdir = 'logs/func/%s' % stamp\n",
        "writer = tf.summary.create_file_writer(logdir)\n",
        "\n",
        "# Sample data for your function.\n",
        "x = tf.random.uniform((3, 3))\n",
        "y = tf.random.uniform((3, 3))\n",
        "\n",
        "# Bracket the function call with\n",
        "# tf.summary.trace_on() and tf.summary.trace_export().\n",
        "tf.summary.trace_on(graph=True, profiler=True)\n",
        "# Call only one tf.function when tracing.\n",
        "z = my_func(x, y)\n",
        "with writer.as_default():\n",
        "    tf.summary.trace_export(\n",
        "        name=\"my_func_trace\",\n",
        "        step=0,\n",
        "        profiler_outdir=logdir)\n",
        "\n",
        "# tf.summary.trace_off() # Explicitly stop tracing to ensure clean up"
      ],
      "metadata": {
        "id": "md3XqacA3Da5"
      },
      "execution_count": null,
      "outputs": []
    },
    {
      "cell_type": "code",
      "source": [
        "! tensorboard --logdir logs/func"
      ],
      "metadata": {
        "id": "YbqcxAvZGRrX"
      },
      "execution_count": null,
      "outputs": []
    },
    {
      "cell_type": "markdown",
      "source": [
        "Швидкість виконання графа в TensorFlow порівняно з інтерактивним виконанням в основному залежить від наступних факторів:\n",
        "\n",
        "- Оптимізація графа: Під час виконання графа TensorFlow може оптимізувати та перетворювати граф обчислень перед його виконанням. Цей процес оптимізації може включати усунення спільних підвиразів, складання констант та інші оптимізації на рівні графа.\n",
        "- Розміщення пристроїв та паралельне виконання: Графічне виконання TensorFlow дозволяє ефективно розміщувати пристрої та виконувати обчислення паралельно. Граф обчислень може бути розділений на підграфи, які можуть виконуватися паралельно на кількох пристроях, таких як GPU або TPU.\n",
        "- Компіляція у прискорений код: Коли використовується графічне виконання, TensorFlow має можливість компілювати граф обчислень в більш оптимізовану форму на низькому рівні, специфічні для певного обладнання.\n",
        "- Зменшення накладень Python: Інтерактивне виконання включає в себе виконання операцій імперативно, що означає, що кожна операція виконується негайно в Python. Це може вводити накладення Python та обмежувати можливості оптимізації. На відміну від цього, під час графічного виконання граф будується та оптимізується перед виконанням, що зменшує необхідність у частих взаємодіях із інтерпретатором Python."
      ],
      "metadata": {
        "id": "duMUIqnAPwbR"
      }
    },
    {
      "cell_type": "code",
      "source": [
        "import timeit\n",
        "import tensorflow as tf\n",
        "\n",
        "x = tf.random.uniform(shape=[10, 10], minval=-1, maxval=2, dtype=tf.dtypes.int32)\n",
        "\n",
        "def power(x, y):\n",
        "    result = tf.eye(10, dtype=tf.dtypes.int32)\n",
        "    for _ in range(y):\n",
        "        result = tf.matmul(x, result)\n",
        "    return result\n",
        "\n",
        "print(\"Eager execution:\", timeit.timeit(lambda: power(x, 100), number=1000), \"seconds\")"
      ],
      "metadata": {
        "colab": {
          "base_uri": "https://localhost:8080/"
        },
        "id": "f74vhv4HQHq1",
        "outputId": "83c69f7e-ba49-4d60-a51f-2d89c451ce4e"
      },
      "execution_count": 4,
      "outputs": [
        {
          "output_type": "stream",
          "name": "stdout",
          "text": [
            "Eager execution: 5.836813345999872 seconds\n"
          ]
        }
      ]
    },
    {
      "cell_type": "code",
      "source": [
        "power_as_graph = tf.function(power)\n",
        "print(\"Graph execution:\", timeit.timeit(lambda: power_as_graph(x, 100), number=1000), \"seconds\")"
      ],
      "metadata": {
        "colab": {
          "base_uri": "https://localhost:8080/"
        },
        "id": "WzBl6j5VRh03",
        "outputId": "094748e2-078b-4094-aa3d-00fff7e1beea"
      },
      "execution_count": 5,
      "outputs": [
        {
          "output_type": "stream",
          "name": "stdout",
          "text": [
            "Graph execution: 1.0712397730001157 seconds\n"
          ]
        }
      ]
    }
  ]
}