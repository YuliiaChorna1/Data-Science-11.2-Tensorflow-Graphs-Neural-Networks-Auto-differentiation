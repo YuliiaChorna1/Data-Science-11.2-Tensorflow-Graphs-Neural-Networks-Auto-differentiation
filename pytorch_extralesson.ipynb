{
 "cells": [
  {
   "cell_type": "markdown",
   "metadata": {},
   "source": [
    "# Pytorch"
   ]
  },
  {
   "cell_type": "code",
   "execution_count": 1,
   "metadata": {},
   "outputs": [],
   "source": [
    "import torch"
   ]
  },
  {
   "cell_type": "code",
   "execution_count": 2,
   "metadata": {},
   "outputs": [
    {
     "data": {
      "text/plain": [
       "False"
      ]
     },
     "execution_count": 2,
     "metadata": {},
     "output_type": "execute_result"
    }
   ],
   "source": [
    "torch.cuda.is_available()"
   ]
  },
  {
   "cell_type": "code",
   "execution_count": null,
   "metadata": {},
   "outputs": [
    {
     "name": "stdout",
     "output_type": "stream",
     "text": [
      "Constant Tensor: tensor([1, 2, 3])\n",
      "Variable Tensor (Parameter): Parameter containing:\n",
      "tensor([1., 2., 3.], requires_grad=True)\n",
      "Variable Tensor (non-Parameter) tensor([1., 2., 3.], requires_grad=True)\n"
     ]
    }
   ],
   "source": [
    "import torch\n",
    "\n",
    "# Using torch.tensor (similar to tf.constant)\n",
    "constant_tensor = torch.tensor([1, 2, 3])\n",
    "\n",
    "# Using torch.nn.Parameter (similar to tf.Variable)\n",
    "variable_tensor = torch.nn.Parameter(torch.tensor([1, 2, 3], dtype=torch.float32))\n",
    "\n",
    "# If you want to create a regular tensor (not a parameter) with requires_grad=True\n",
    "# requires_grad=False - НЕ рахує похідну, requires_grad=True - рахує\n",
    "variable_tensor_non_param = torch.tensor([1, 2, 3], dtype=torch.float32, requires_grad=True)\n",
    "\n",
    "# Print the tensors\n",
    "print(\"Constant Tensor:\", constant_tensor)\n",
    "print(\"Variable Tensor (Parameter):\", variable_tensor)\n",
    "print(\"Variable Tensor (non-Parameter)\", variable_tensor_non_param)"
   ]
  },
  {
   "cell_type": "code",
   "execution_count": 8,
   "metadata": {},
   "outputs": [],
   "source": [
    "import torch\n",
    "import torch.nn as nn\n",
    "\n",
    "import numpy as np\n",
    "import matplotlib.pyplot as plt\n",
    "\n",
    "\n",
    "class LinearModel(nn.Module):\n",
    "    def __init__(self):\n",
    "        super(LinearModel, self).__init__()\n",
    "        # Initialize the weights to '5.0' and the bias to '0.0'\n",
    "        # In practice , these should be randomly initialized\n",
    "        self.w = nn.Parameter(torch.tensor(5.0, dtype=torch.float32))\n",
    "        self.b = nn.Parameter(torch.tensor(0.0, dtype=torch.float32))\n",
    "\n",
    "    def forward(self, x):\n",
    "        return self.w * x + self.b\n",
    "    \n",
    "def loss(target_y, predicted_y): # Mean Squared Error\n",
    "    return torch.mean((target_y - predicted_y)**2)\n",
    "\n",
    "def train(model, x, y, learning_rate):\n",
    "    # Backpropagation, good explanation: https://medium.com/@mugeshk/backpropagation-algorithm-using-pytorch-ee1287888aca\n",
    "    current_loss = loss(y, model(x))\n",
    "    model.zero_grad()\n",
    "    current_loss.backward() # https://pytorch.org/docs/stable/generated/torch.Tensor.backward.html\n",
    "\n",
    "    with torch.no_grad():\n",
    "        model.w -= learning_rate * model.w.grad\n",
    "        model.b -= learning_rate * model.b.grad\n",
    "\n",
    "def training_loop(model, x, y):\n",
    "    for epoch in range(10):\n",
    "        train(model, x, y, learning_rate=0.1)\n",
    "        current_loss = loss(y, model(x))\n",
    "        print(f\"Loss: {current_loss.item()}\")\n",
    "\n",
    "# Please note that PyTorch uses dynamic computation graphs, so there's no need for a separate GradientTape as in TensorFlow\n",
    "# The gradients are automatically calculated during the backward pass\n",
    "# Also, the loss function and the training loop have been adjusted to use PyTorch syntax"
   ]
  },
  {
   "cell_type": "code",
   "execution_count": 10,
   "metadata": {},
   "outputs": [
    {
     "name": "stdout",
     "output_type": "stream",
     "text": [
      "Loss: 6.174999237060547\n",
      "Loss: 3.9825637340545654\n",
      "Loss: 2.7143919467926025\n",
      "Loss: 1.9748276472091675\n",
      "Loss: 1.539980173110962\n",
      "Loss: 1.2822182178497314\n",
      "Loss: 1.1282165050506592\n",
      "Loss: 1.0355095863342285\n",
      "Loss: 0.9793027639389038\n",
      "Loss: 0.9449989795684814\n"
     ]
    },
    {
     "data": {
      "text/plain": [
       "[<matplotlib.lines.Line2D at 0x19a72925820>]"
      ]
     },
     "execution_count": 10,
     "metadata": {},
     "output_type": "execute_result"
    },
    {
     "data": {
      "image/png": "[encoded data removed]",
      "text/plain": [
       "<Figure size 640x480 with 1 Axes>"
      ]
     },
     "metadata": {},
     "output_type": "display_data"
    }
   ],
   "source": [
    "# Example usage\n",
    "\n",
    "# A vector of random x values\n",
    "NUM_EXAMPLES = 201\n",
    "x = torch.linspace(-2, 2, steps=NUM_EXAMPLES, dtype=torch.float32)\n",
    "\n",
    "# Generate some noise\n",
    "noise = torch. randn(NUM_EXAMPLES)\n",
    "\n",
    "# The actual line\n",
    "TRUE_W = 3.0\n",
    "TRUE_B = 2.0\n",
    "\n",
    "def f(x):\n",
    "    return x * TRUE_W + TRUE_B\n",
    "\n",
    "# Calculate y\n",
    "y = f(x) + noise\n",
    "\n",
    "linear_model = LinearModel()\n",
    "training_loop(linear_model, x, y)\n",
    "\n",
    "y_pred = linear_model(x)\n",
    "\n",
    "#Plot all the data\n",
    "plt.plot(x, y, \".\")\n",
    "plt.plot(x, y_pred.detach().numpy(), \".\") # .tensor.detach().numpy()"
   ]
  },
  {
   "cell_type": "markdown",
   "metadata": {},
   "source": [
    "## Which framework to use?\n",
    "\n",
    "PyTorch and TensorFlow are two of the most popular deep learning frameworks, and while they share many similarities, there are some key differences between them:\n",
    "**Dynamic vs. Static Computational Graph:** \n",
    "- `PyTorch`: PyTorch uses a dynamic computational graph. This means that the graph is built on-the-fly as operations are executed. It allows for more flexibility and ease of debugging.\n",
    "- `TensorFlow`: TensorFlow traditionally used a static computational graph. However, with the introduction of TensorFlow 2.x, eager execution became the default mode, providing a dynamic graph similar to PyTorch. TensorFlow 2.x allows users to switch between static and dynamic graphs.\n",
    "**API Style:**\n",
    "- `PyTorch`: PyTorch uses a more imperative and Pythonic syntax. It is often considered more intuitive and easier to learn for researchers and beginners.\n",
    "- `TensorFlow`: TensorFlow has a more declarative and somewhat more verbose syntax. However, TensorFlow 2. with eager execution is more similar to PyTorch in terms of syntax.\n",
    "**Community and Adoption:**\n",
    "- `PyTorch`: PyTorch gained popularity in the research community, and many researchers appreciate its dynamic graph and ease of use. It is often the preferred choice for prototyping and experimentation.\n",
    "- `TensorFlow`: TensorFlow has been widely adopted in both research and industry. Its static graph mode was historically favored in production settings, and TensorFlow's ecosystem includes many tools for deploying models at scale.\n",
    "\n",
    "**Visualization Tools:**\n",
    "- `PyTorch`: PyTorch's models can also be visualized in TensorBoard.\n",
    "- `TensorFlow`: TensorFlow has TensorBoard, which is a powerful visualization tool for monitoring and debugging models during training. It includes features for graph visualization, loss curves, and more.\n",
    "**Ecosystem and Integration:**\n",
    "- `PyTorch`: PyTorch has a more concise and modular ecosystem. It is often praised for its ease of integration with other libraries and tools.\n",
    "- `TensorFlow`: TensorFlow has a more extensive ecosystem, including Tensorflow Extended (TFX) for end-to-end machine learning pipelines. It is well-integrated with TensorFlow Lite for mobile and edge devices.\n",
    "**Automatic Differentiation:**\n",
    "- `PyTorch`: PyTorch uses dynamic computation for automatic differentiation, making it easy to compute gradients of complex operations on-the-fly.\n",
    "- `TensorFlow`: TensorFlow's eager execution mode and TensorFlow 2. make automatic differentiation more similar to PyTorch.\n",
    "\n",
    "Additional information: https://www.datacamp.com/tutorial/pytorch-vs-tensorflow-vs-keras"
   ]
  }
 ],
 "metadata": {
  "kernelspec": {
   "display_name": "Python 3",
   "language": "python",
   "name": "python3"
  },
  "language_info": {
   "codemirror_mode": {
    "name": "ipython",
    "version": 3
   },
   "file_extension": ".py",
   "mimetype": "text/x-python",
   "name": "python",
   "nbconvert_exporter": "python",
   "pygments_lexer": "ipython3",
   "version": "3.12.4"
  }
 },
 "nbformat": 4,
 "nbformat_minor": 2
}
