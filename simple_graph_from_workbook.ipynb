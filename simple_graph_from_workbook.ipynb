{
 "cells": [
  {
   "cell_type": "code",
   "execution_count": null,
   "metadata": {},
   "outputs": [
    {
     "data": {
      "text/plain": [
       "TensorShape([])"
      ]
     },
     "execution_count": 5,
     "metadata": {},
     "output_type": "execute_result"
    }
   ],
   "source": [
    "import tensorflow as tf\n",
    "\n",
    "\n",
    "def formula(x, y, b):\n",
    "    x = tf.matmul(x, y)\n",
    "    x = x + b\n",
    "    return x\n",
    "\n",
    "# Функція tf.function приймає у якості аргумента звичайну функцію \n",
    "# і генерує обчислювальний граф:\n",
    "function_that_uses_graph = tf.function(formula)\n",
    "\n",
    "# Ми будемо виконувати матричні операції, \n",
    "# тому перш ніж передавати аргументи на цю функцію потрібно перетворити їх на тензори:\n",
    "x1 = tf.constant([[1.0, 2.0]])\n",
    "y1 = tf.constant([[2.0], [3.0]])\n",
    "b1 = tf.constant(4.0)\n",
    "\n",
    "orig_value = formula(x1, y1, b1).numpy()\n",
    "\n",
    "# Після виконання обчислень функція function_that_uses_a_graph поверне тензор,\n",
    "# який буде перетворено на багатовимірний масив numpy:\n",
    "tf_function_value = function_that_uses_graph(x1, y1, b1).numpy()\n",
    "\n",
    "assert(orig_value == tf_function_value)\n",
    "\n",
    "x1.shape\n",
    "y1.shape\n",
    "b1.shape"
   ]
  },
  {
   "cell_type": "markdown",
   "metadata": {},
   "source": [
    "При цьому в tensorflow можна зручно ***конвертувати numpy масив у тензор*** та назад. \n",
    "\n",
    "Наприклад, для того, щоб отримати тензор маючи багатовимірний масив numpy достатньо виконати наступний код:"
   ]
  },
  {
   "cell_type": "code",
   "execution_count": null,
   "metadata": {},
   "outputs": [],
   "source": [
    "import numpy as np\n",
    "\n",
    "x_array = np.array([1, 2, 3])\n",
    "x_tensor = tf.convert_to_tensor(x_array)"
   ]
  },
  {
   "cell_type": "markdown",
   "metadata": {},
   "source": [
    "При цьому перетворення ***тензора на багатовимірний масив numpy*** виглядає ще простіше:"
   ]
  },
  {
   "cell_type": "code",
   "execution_count": 7,
   "metadata": {},
   "outputs": [
    {
     "data": {
      "text/plain": [
       "array([1, 2, 3])"
      ]
     },
     "execution_count": 7,
     "metadata": {},
     "output_type": "execute_result"
    }
   ],
   "source": [
    "x_tensor.numpy()"
   ]
  },
  {
   "cell_type": "markdown",
   "metadata": {},
   "source": [
    "##### `tf.function` можна використовувати як декоратор:"
   ]
  },
  {
   "cell_type": "code",
   "execution_count": 8,
   "metadata": {},
   "outputs": [],
   "source": [
    "import tensorflow as tf\n",
    "\n",
    "\n",
    "@tf.function\n",
    "def function_that_uses_a_graph(x, y, b):\n",
    "    x = tf.matmul(x, y)\n",
    "    x = x + b\n",
    "    return x\n",
    "\n",
    "\n",
    "x1 = tf.constant([[1.0, 2.0]])\n",
    "y1 = tf.constant([[2.0], [3.0]])\n",
    "b1 = tf.constant(4.0)\n",
    "\n",
    "orig_value = formula(x1, y1, b1).numpy()\n",
    "tf_function_value = function_that_uses_a_graph(x1, y1, b1).numpy()\n",
    "\n",
    "assert(orig_value == tf_function_value)\n"
   ]
  },
  {
   "cell_type": "markdown",
   "metadata": {},
   "source": [
    "У попередній tensorflow версії 1.x для того, щоб створити та виконати обчислювальний граф:"
   ]
  },
  {
   "cell_type": "code",
   "execution_count": null,
   "metadata": {},
   "outputs": [],
   "source": [
    "## Old version doesn't work here\n",
    "# import tensorflow as tf\n",
    "\n",
    "# x, y = 2, 3\n",
    "\n",
    "# add_op = tf.add(x, y, name='Add')\n",
    "# mul_op = tf.multiply(x, y, name='Multiply')\n",
    "# pow_op = tf.pow(add_op, mul_op, name='Power')\n",
    "# useless_op = tf.multiply(x, add_op, name='Useless')\n",
    "\n",
    "# with tf.Session() as sess:\n",
    "#     pow_out, useless_out = sess.run([pow_op, useless_op])"
   ]
  },
  {
   "cell_type": "markdown",
   "metadata": {},
   "source": [
    "У нейронних мережах часто використовується активаційна функція ReLU:\n",
    "\n",
    "$$\n",
    "f(x)=max(x,0)\n",
    "$$\n",
    "\n",
    "Ось як її можна було б реалізувати з використанням низькорівневого API tensorflow:"
   ]
  },
  {
   "cell_type": "code",
   "execution_count": 10,
   "metadata": {},
   "outputs": [
    {
     "name": "stdout",
     "output_type": "stream",
     "text": [
      "1\n",
      "0\n"
     ]
    }
   ],
   "source": [
    "import tensorflow as tf\n",
    "\n",
    "@tf.function\n",
    "def relu_activation(x):\n",
    "    if tf.greater(x, 0):\n",
    "        return x\n",
    "    return 0\n",
    "\n",
    "print(relu_activation(tf.constant(1)).numpy())\n",
    "print(relu_activation(tf.constant(-1)).numpy())"
   ]
  },
  {
   "cell_type": "markdown",
   "metadata": {},
   "source": [
    "У машинному навчанні досить часто доводиться мати справу з обчисленням градієнтів. Це завдання виникає настільки часто, що на сьогоднішній день вже існує безліч бібліотек, які дозволяють виконувати автоматичне диференціювання. Такий механізм є і в tensorflow. \n",
    "\n",
    "Нехай є якась функція і нам потрібно обчислити значення її похідної у точці x0=2. Для цього спершу оголосимо функцію:"
   ]
  },
  {
   "cell_type": "code",
   "execution_count": 1,
   "metadata": {},
   "outputs": [
    {
     "name": "stdout",
     "output_type": "stream",
     "text": [
      "tf.Tensor(-0.25, shape=(), dtype=float32)\n"
     ]
    }
   ],
   "source": [
    "import tensorflow as tf\n",
    "\n",
    "\n",
    "def f(x):\n",
    "    return 1 / x ** 2\n",
    "\n",
    "\n",
    "x = tf.Variable(2.0)\n",
    "with tf.GradientTape() as tape:\n",
    "    y = f(x)\n",
    "    dydx = tape.gradient(y, x)\n",
    "    print(dydx)"
   ]
  },
  {
   "cell_type": "markdown",
   "metadata": {},
   "source": [
    "За допомогою класу `GradientTape` tensorflow записує всі операції, необхідні для обчислення похідної в змінну `tape`. Для того, щоб обчислити значення похідної в конкретній точці, потрібно викликати метод `gradient`, приймає 2 аргументи. Перший - функція, похідну якої ми хочемо обчислити. Другий - аргумент, за яким обчислюється похідна (причому це може бути тензор). Цей механізм нам ще знадобиться далі."
   ]
  }
 ],
 "metadata": {
  "kernelspec": {
   "display_name": "Python 3",
   "language": "python",
   "name": "python3"
  },
  "language_info": {
   "codemirror_mode": {
    "name": "ipython",
    "version": 3
   },
   "file_extension": ".py",
   "mimetype": "text/x-python",
   "name": "python",
   "nbconvert_exporter": "python",
   "pygments_lexer": "ipython3",
   "version": "3.12.4"
  }
 },
 "nbformat": 4,
 "nbformat_minor": 2
}
