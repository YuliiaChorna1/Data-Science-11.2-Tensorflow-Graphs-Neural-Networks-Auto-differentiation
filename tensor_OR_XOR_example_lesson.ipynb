{
 "cells": [
  {
   "cell_type": "code",
   "execution_count": 19,
   "metadata": {},
   "outputs": [],
   "source": [
    "import numpy as np\n",
    "import tensorflow.compat.v1 as tf\n",
    "\n",
    "tf.disable_v2_behavior()"
   ]
  },
  {
   "cell_type": "code",
   "execution_count": 20,
   "metadata": {},
   "outputs": [],
   "source": [
    "X = np.array([[0, 0], \n",
    "              [0, 1], \n",
    "              [1, 0], \n",
    "              [1, 1]])\n",
    "y = np.array([[0], \n",
    "              [1], \n",
    "              [1], \n",
    "              [1]])"
   ]
  },
  {
   "cell_type": "code",
   "execution_count": 21,
   "metadata": {},
   "outputs": [],
   "source": [
    "input_layer = tf.placeholder(dtype=tf.float32, shape=[None, 2])\n",
    "output_layer = tf.placeholder(dtype=tf.float32, shape=[None, 1])"
   ]
  },
  {
   "cell_type": "code",
   "execution_count": 22,
   "metadata": {},
   "outputs": [],
   "source": [
    "W = tf.Variable(tf.random.normal([2, 1]))\n",
    "b = tf.Variable(tf.random.normal([1]))"
   ]
  },
  {
   "cell_type": "code",
   "execution_count": 23,
   "metadata": {},
   "outputs": [],
   "source": [
    "model = tf.add(tf.matmul(input_layer, W), b)\n",
    "output = tf.nn.sigmoid(model)\n",
    "loss = tf.reduce_mean(tf.nn.sigmoid_cross_entropy_with_logits(logits=model, labels=output_layer))"
   ]
  },
  {
   "cell_type": "code",
   "execution_count": 24,
   "metadata": {},
   "outputs": [],
   "source": [
    "optimizer = tf.train.GradientDescentOptimizer(learning_rate=0.1).minimize(loss)"
   ]
  },
  {
   "cell_type": "code",
   "execution_count": 25,
   "metadata": {},
   "outputs": [
    {
     "name": "stdout",
     "output_type": "stream",
     "text": [
      "Epoch 0, loss : 1.4775311946868896\n",
      "Epoch 1000, loss : 0.09053540974855423\n",
      "Epoch 2000, loss : 0.04730335250496864\n",
      "Epoch 3000, loss : 0.031637921929359436\n",
      "Epoch 4000, loss : 0.023667803034186363\n",
      "Epoch 5000, loss : 0.0188690684735775\n",
      "Epoch 6000, loss : 0.01567208208143711\n",
      "Epoch 7000, loss : 0.01339323353022337\n",
      "Epoch 8000, loss : 0.011688354425132275\n",
      "Epoch 9000, loss : 0.010365718975663185\n",
      "predictions: [[0.02054598]\n",
      " [0.9917978 ]\n",
      " [0.9917904 ]\n",
      " [0.99999857]]\n"
     ]
    }
   ],
   "source": [
    "with tf.Session() as sess:\n",
    "    sess.run(tf.global_variables_initializer())\n",
    "\n",
    "    for epoch in range(10000):\n",
    "        _, l = sess.run([optimizer, loss], feed_dict={input_layer: X, output_layer: y})\n",
    "        if epoch % 1000 == 0:\n",
    "            print(f'Epoch {epoch}, loss : {l}')\n",
    "\n",
    "\n",
    "    predictions = sess.run(output, feed_dict={input_layer: X})\n",
    "    print(\"predictions:\", predictions)\n",
    "\n"
   ]
  },
  {
   "cell_type": "code",
   "execution_count": 26,
   "metadata": {},
   "outputs": [],
   "source": [
    "# XOR"
   ]
  },
  {
   "cell_type": "code",
   "execution_count": 27,
   "metadata": {},
   "outputs": [],
   "source": [
    "X = np.array([[0, 0], \n",
    "              [0, 1], \n",
    "              [1, 0], \n",
    "              [1, 1]])\n",
    "y = np.array([[0], \n",
    "              [1], \n",
    "              [1], \n",
    "              [0]])"
   ]
  },
  {
   "cell_type": "code",
   "execution_count": 28,
   "metadata": {},
   "outputs": [],
   "source": [
    "input_layer = tf.placeholder(dtype=tf.float32, shape=[None, 2])\n",
    "output_layer = tf.placeholder(dtype=tf.float32, shape=[None, 1])\n",
    "\n",
    "hidden_layer = 3"
   ]
  },
  {
   "cell_type": "code",
   "execution_count": 29,
   "metadata": {},
   "outputs": [],
   "source": [
    "W1 = tf.Variable(tf.random.normal([2, hidden_layer]))\n",
    "b1 = tf.Variable(tf.zeros([hidden_layer]))\n",
    "\n",
    "W2 = tf.Variable(tf.random.normal([hidden_layer, 1]))\n",
    "b2 = tf.Variable(tf.zeros([1]))"
   ]
  },
  {
   "cell_type": "code",
   "execution_count": null,
   "metadata": {},
   "outputs": [],
   "source": [
    "\n",
    "hidden = tf.relu(tf.add(tf.matmul(input_layer, W1), b1))\n",
    "output = tf.nn.sigmoid(tf.add(tf.matmul(hidden, W2), b2))\n",
    "\n",
    "loss = tf.reduce_mean(tf.square(output - output_layer))"
   ]
  },
  {
   "cell_type": "code",
   "execution_count": 31,
   "metadata": {},
   "outputs": [],
   "source": [
    "optimizer = tf.train.GradientDescentOptimizer(learning_rate=0.5).minimize(loss)"
   ]
  },
  {
   "cell_type": "code",
   "execution_count": null,
   "metadata": {},
   "outputs": [],
   "source": [
    "with tf.Session() as sess:\n",
    "    sess.run(tf.global_variables_initializer())\n",
    "\n",
    "    for epoch in range(10000):\n",
    "        _, l = sess.run([optimizer, loss], feed_dict={input_layer: X, output_layer: y})\n",
    "        if epoch % 1000 == 0:\n",
    "            print(f'Epoch {epoch}, loss : {l}')\n",
    "\n",
    "\n",
    "    predictions = sess.run(output, feed_dict={input_layer: X})\n",
    "    print(\"predictions:\", predictions)\n"
   ]
  },
  {
   "cell_type": "code",
   "execution_count": null,
   "metadata": {},
   "outputs": [],
   "source": []
  }
 ],
 "metadata": {
  "kernelspec": {
   "display_name": "Python 3",
   "language": "python",
   "name": "python3"
  },
  "language_info": {
   "codemirror_mode": {
    "name": "ipython",
    "version": 3
   },
   "file_extension": ".py",
   "mimetype": "text/x-python",
   "name": "python",
   "nbconvert_exporter": "python",
   "pygments_lexer": "ipython3",
   "version": "3.12.4"
  }
 },
 "nbformat": 4,
 "nbformat_minor": 2
}
